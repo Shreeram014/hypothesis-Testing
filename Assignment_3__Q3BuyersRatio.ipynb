{
 "cells": [
  {
   "cell_type": "code",
   "execution_count": 1,
   "id": "98274829",
   "metadata": {},
   "outputs": [],
   "source": [
    "import pandas as pd\n",
    "import numpy as np\n",
    "import scipy.stats as stats"
   ]
  },
  {
   "cell_type": "code",
   "execution_count": 2,
   "id": "b26eb48e",
   "metadata": {},
   "outputs": [],
   "source": [
    "BuyersRatio=pd.read_csv(\"C:\\\\ExcelR\\\\Assignments\\\\Assignment 3\\\\BuyerRatio.csv\")"
   ]
  },
  {
   "cell_type": "code",
   "execution_count": 3,
   "id": "51193c8c",
   "metadata": {},
   "outputs": [
    {
     "data": {
      "text/html": [
       "<div>\n",
       "<style scoped>\n",
       "    .dataframe tbody tr th:only-of-type {\n",
       "        vertical-align: middle;\n",
       "    }\n",
       "\n",
       "    .dataframe tbody tr th {\n",
       "        vertical-align: top;\n",
       "    }\n",
       "\n",
       "    .dataframe thead th {\n",
       "        text-align: right;\n",
       "    }\n",
       "</style>\n",
       "<table border=\"1\" class=\"dataframe\">\n",
       "  <thead>\n",
       "    <tr style=\"text-align: right;\">\n",
       "      <th></th>\n",
       "      <th>Observed Values</th>\n",
       "      <th>East</th>\n",
       "      <th>West</th>\n",
       "      <th>North</th>\n",
       "      <th>South</th>\n",
       "    </tr>\n",
       "  </thead>\n",
       "  <tbody>\n",
       "    <tr>\n",
       "      <th>0</th>\n",
       "      <td>Males</td>\n",
       "      <td>50</td>\n",
       "      <td>142</td>\n",
       "      <td>131</td>\n",
       "      <td>70</td>\n",
       "    </tr>\n",
       "    <tr>\n",
       "      <th>1</th>\n",
       "      <td>Females</td>\n",
       "      <td>435</td>\n",
       "      <td>1523</td>\n",
       "      <td>1356</td>\n",
       "      <td>750</td>\n",
       "    </tr>\n",
       "  </tbody>\n",
       "</table>\n",
       "</div>"
      ],
      "text/plain": [
       "  Observed Values  East  West  North  South\n",
       "0           Males    50   142    131     70\n",
       "1         Females   435  1523   1356    750"
      ]
     },
     "execution_count": 3,
     "metadata": {},
     "output_type": "execute_result"
    }
   ],
   "source": [
    "BuyersRatio"
   ]
  },
  {
   "cell_type": "markdown",
   "id": "3c9ebda3",
   "metadata": {},
   "source": [
    "here,"
   ]
  },
  {
   "cell_type": "markdown",
   "id": "0eef2750",
   "metadata": {},
   "source": [
    "We want to test whether is there any relationship between the region and gender of customer for sales of product \n"
   ]
  },
  {
   "cell_type": "markdown",
   "id": "11bfe978",
   "metadata": {},
   "source": [
    "therefore "
   ]
  },
  {
   "cell_type": "markdown",
   "id": "fddc8d23",
   "metadata": {},
   "source": [
    "Ho: sales is Independent of gender and region "
   ]
  },
  {
   "cell_type": "markdown",
   "id": "77294726",
   "metadata": {},
   "source": [
    "H1: sales is dependant of gender and region"
   ]
  },
  {
   "cell_type": "code",
   "execution_count": 4,
   "id": "6288f558",
   "metadata": {},
   "outputs": [],
   "source": [
    "BR_df=BuyersRatio.iloc[:,1:5]"
   ]
  },
  {
   "cell_type": "code",
   "execution_count": 5,
   "id": "0d8deb99",
   "metadata": {},
   "outputs": [
    {
     "data": {
      "text/html": [
       "<div>\n",
       "<style scoped>\n",
       "    .dataframe tbody tr th:only-of-type {\n",
       "        vertical-align: middle;\n",
       "    }\n",
       "\n",
       "    .dataframe tbody tr th {\n",
       "        vertical-align: top;\n",
       "    }\n",
       "\n",
       "    .dataframe thead th {\n",
       "        text-align: right;\n",
       "    }\n",
       "</style>\n",
       "<table border=\"1\" class=\"dataframe\">\n",
       "  <thead>\n",
       "    <tr style=\"text-align: right;\">\n",
       "      <th></th>\n",
       "      <th>East</th>\n",
       "      <th>West</th>\n",
       "      <th>North</th>\n",
       "      <th>South</th>\n",
       "    </tr>\n",
       "  </thead>\n",
       "  <tbody>\n",
       "    <tr>\n",
       "      <th>0</th>\n",
       "      <td>50</td>\n",
       "      <td>142</td>\n",
       "      <td>131</td>\n",
       "      <td>70</td>\n",
       "    </tr>\n",
       "    <tr>\n",
       "      <th>1</th>\n",
       "      <td>435</td>\n",
       "      <td>1523</td>\n",
       "      <td>1356</td>\n",
       "      <td>750</td>\n",
       "    </tr>\n",
       "  </tbody>\n",
       "</table>\n",
       "</div>"
      ],
      "text/plain": [
       "   East  West  North  South\n",
       "0    50   142    131     70\n",
       "1   435  1523   1356    750"
      ]
     },
     "execution_count": 5,
     "metadata": {},
     "output_type": "execute_result"
    }
   ],
   "source": [
    "BR_df"
   ]
  },
  {
   "cell_type": "code",
   "execution_count": 6,
   "id": "d846deb6",
   "metadata": {},
   "outputs": [],
   "source": [
    "chi2_result=stats.chi2_contingency(BR_df)"
   ]
  },
  {
   "cell_type": "code",
   "execution_count": 7,
   "id": "17349fdb",
   "metadata": {},
   "outputs": [
    {
     "data": {
      "text/plain": [
       "(1.595945538661058,\n",
       " 0.6603094907091882,\n",
       " 3,\n",
       " array([[  42.76531299,  146.81287862,  131.11756787,   72.30424052],\n",
       "        [ 442.23468701, 1518.18712138, 1355.88243213,  747.69575948]]))"
      ]
     },
     "execution_count": 7,
     "metadata": {},
     "output_type": "execute_result"
    }
   ],
   "source": [
    "chi2_result"
   ]
  },
  {
   "cell_type": "markdown",
   "id": "509bfe1b",
   "metadata": {},
   "source": [
    "here,p-value is greater than l.o.s."
   ]
  },
  {
   "cell_type": "markdown",
   "id": "7ccb7646",
   "metadata": {},
   "source": [
    "therefore, we accept Ho. Which means there is no relationship between the gender and region of sales of product "
   ]
  },
  {
   "cell_type": "markdown",
   "id": "a7710785",
   "metadata": {},
   "source": []
  }
 ],
 "metadata": {
  "kernelspec": {
   "display_name": "Python 3",
   "language": "python",
   "name": "python3"
  },
  "language_info": {
   "codemirror_mode": {
    "name": "ipython",
    "version": 3
   },
   "file_extension": ".py",
   "mimetype": "text/x-python",
   "name": "python",
   "nbconvert_exporter": "python",
   "pygments_lexer": "ipython3",
   "version": "3.8.8"
  }
 },
 "nbformat": 4,
 "nbformat_minor": 5
}
